{
 "cells": [
  {
   "cell_type": "code",
   "execution_count": 1,
   "metadata": {
    "tags": []
   },
   "outputs": [],
   "source": [
    "import pandas as pd\n",
    "from sklearn.feature_extraction.text import TfidfVectorizer\n",
    "from sklearn.metrics.pairwise import linear_kernel, cosine_similarity"
   ]
  },
  {
   "attachments": {},
   "cell_type": "markdown",
   "metadata": {},
   "source": [
    "## Content Based Recommender - Movie Description Based Recommender"
   ]
  },
  {
   "attachments": {},
   "cell_type": "markdown",
   "metadata": {},
   "source": [
    "This model will look for similarity between movies. This is known as Content Based Filtering/Recommender because I will be using movie metadata to build it.\n",
    "\n",
    "It will be based on movie \"Overviews\" and \"Taglines\"\n",
    "\n",
    "Also, I will be using a subset of all the movies available due to limiting computing power."
   ]
  },
  {
   "attachments": {},
   "cell_type": "markdown",
   "metadata": {},
   "source": [
    "### Cosine Similarity"
   ]
  },
  {
   "attachments": {
    "image.png": {
     "image/png": "[encoded data removed]"
    }
   },
   "cell_type": "markdown",
   "metadata": {},
   "source": [
    "I will be using the Cosine Similarity to calculate a numeric quantity that denotes the similarity between two movies. Mathematically, it is defined as follows:\n",
    "\n",
    "![image.png](attachment:image.png)"
   ]
  },
  {
   "cell_type": "code",
   "execution_count": 52,
   "metadata": {
    "tags": []
   },
   "outputs": [
    {
     "name": "stdout",
     "output_type": "stream",
     "text": [
      "(42196, 13)\n",
      "(27000, 13)\n",
      "tfidf_matrix.shape: , (27000, 704117)\n"
     ]
    }
   ],
   "source": [
    "df = pd.read_csv('movies_final.csv')\n",
    "df['description'] = df['description'].fillna('')\n",
    "df = df.drop_duplicates(subset='title')\n",
    "print(df.shape)\n",
    "\n",
    "# Make DataFrame smaller\n",
    "df = df.sample(n=27000)\n",
    "print(df.shape)\n",
    "\n",
    "tf = TfidfVectorizer(analyzer='word', ngram_range=(1, 2), min_df=0, stop_words='english')\n",
    "tfidf_matrix = tf.fit_transform(df['description'])\n",
    "print(f\"tfidf_matrix.shape: , {tfidf_matrix.shape}\")\n",
    "\n",
    "cosine_sim = linear_kernel(tfidf_matrix, tfidf_matrix)\n",
    "\n",
    "# We now have a pairwise cosine similarity matrix for all the movies in our dataset. \n",
    "# The next step is to write a function that returns the 5 most similar movies based on the cosine similarity score.\n",
    "\n",
    "df = df.reset_index()\n",
    "titles = df['title']\n",
    "indices = pd.Series(df.index, index=df['title'])\n",
    "\n",
    "def get_recommendations(title):\n",
    "    idx = indices[title]\n",
    "    sim_scores = list(enumerate(cosine_sim[idx]))\n",
    "    sim_scores = sorted(sim_scores, key=lambda x: x[1], reverse=True)\n",
    "    sim_scores = sim_scores[1:6]\n",
    "    movie_indices = [i[0] for i in sim_scores]\n",
    "    return titles.iloc[movie_indices]\n",
    "\n",
    "# We're all set. Let's try and get the top recommendations for a few movies and see how good the recommendations are."
   ]
  },
  {
   "cell_type": "code",
   "execution_count": 53,
   "metadata": {
    "tags": []
   },
   "outputs": [
    {
     "data": {
      "text/html": [
       "<div>\n",
       "<style scoped>\n",
       "    .dataframe tbody tr th:only-of-type {\n",
       "        vertical-align: middle;\n",
       "    }\n",
       "\n",
       "    .dataframe tbody tr th {\n",
       "        vertical-align: top;\n",
       "    }\n",
       "\n",
       "    .dataframe thead th {\n",
       "        text-align: right;\n",
       "    }\n",
       "</style>\n",
       "<table border=\"1\" class=\"dataframe\">\n",
       "  <thead>\n",
       "    <tr style=\"text-align: right;\">\n",
       "      <th></th>\n",
       "      <th>index</th>\n",
       "      <th>id</th>\n",
       "      <th>belongs_to_collection</th>\n",
       "      <th>budget</th>\n",
       "      <th>popularity</th>\n",
       "      <th>poster_path</th>\n",
       "      <th>release_date</th>\n",
       "      <th>revenue</th>\n",
       "      <th>title</th>\n",
       "      <th>vote_average</th>\n",
       "      <th>returns</th>\n",
       "      <th>production_companies</th>\n",
       "      <th>production_countries</th>\n",
       "      <th>description</th>\n",
       "    </tr>\n",
       "  </thead>\n",
       "  <tbody>\n",
       "    <tr>\n",
       "      <th>0</th>\n",
       "      <td>105390</td>\n",
       "      <td>105390</td>\n",
       "      <td>NaN</td>\n",
       "      <td>0</td>\n",
       "      <td>1.291844</td>\n",
       "      <td>/llD80LjD4Ydrw4ktqkgjZVzddZu.jpg</td>\n",
       "      <td>1996-10-16</td>\n",
       "      <td>0</td>\n",
       "      <td>The Rolling Stones Rock and Roll Circus</td>\n",
       "      <td>7.4</td>\n",
       "      <td>0.0</td>\n",
       "      <td>NaN</td>\n",
       "      <td>NaN</td>\n",
       "      <td>The Rolling Stones Rock and Roll Circus is a f...</td>\n",
       "    </tr>\n",
       "    <tr>\n",
       "      <th>1</th>\n",
       "      <td>69044</td>\n",
       "      <td>69044</td>\n",
       "      <td>NaN</td>\n",
       "      <td>7677765</td>\n",
       "      <td>0.382908</td>\n",
       "      <td>/td8DkXlZtbte0slKC52udPIfD8m.jpg</td>\n",
       "      <td>2006-05-10</td>\n",
       "      <td>0</td>\n",
       "      <td>Les Aiguilles rouges</td>\n",
       "      <td>7.0</td>\n",
       "      <td>0.0</td>\n",
       "      <td>NaN</td>\n",
       "      <td>France</td>\n",
       "      <td>September 1960: on a purely punitive basis, ei...</td>\n",
       "    </tr>\n",
       "    <tr>\n",
       "      <th>2</th>\n",
       "      <td>108455</td>\n",
       "      <td>108455</td>\n",
       "      <td>Parent Trap Collection</td>\n",
       "      <td>0</td>\n",
       "      <td>0.161979</td>\n",
       "      <td>/lfDN8vZpfQS0eqxfuwHIMzdaVYJ.jpg</td>\n",
       "      <td>1989-04-09</td>\n",
       "      <td>0</td>\n",
       "      <td>Parent Trap III</td>\n",
       "      <td>3.8</td>\n",
       "      <td>0.0</td>\n",
       "      <td>NaN</td>\n",
       "      <td>NaN</td>\n",
       "      <td>When Jeff plans to marry again, his triplet da...</td>\n",
       "    </tr>\n",
       "    <tr>\n",
       "      <th>3</th>\n",
       "      <td>58148</td>\n",
       "      <td>58148</td>\n",
       "      <td>NaN</td>\n",
       "      <td>0</td>\n",
       "      <td>0.315696</td>\n",
       "      <td>/9TGmE1YMZWSCX9D2j32uJcVtobZ.jpg</td>\n",
       "      <td>2011-10-19</td>\n",
       "      <td>0</td>\n",
       "      <td>The Catechism Cataclysm</td>\n",
       "      <td>3.9</td>\n",
       "      <td>0.0</td>\n",
       "      <td>NaN</td>\n",
       "      <td>NaN</td>\n",
       "      <td>Father William Smoortser drops his bible into ...</td>\n",
       "    </tr>\n",
       "    <tr>\n",
       "      <th>4</th>\n",
       "      <td>30772</td>\n",
       "      <td>30772</td>\n",
       "      <td>NaN</td>\n",
       "      <td>0</td>\n",
       "      <td>2.390913</td>\n",
       "      <td>/pV4IiDPZEFJdrFWsdW9DTzPeEvz.jpg</td>\n",
       "      <td>2005-01-01</td>\n",
       "      <td>0</td>\n",
       "      <td>The Thing About My Folks</td>\n",
       "      <td>5.4</td>\n",
       "      <td>0.0</td>\n",
       "      <td>NaN</td>\n",
       "      <td>NaN</td>\n",
       "      <td>Ben's dad Sam shows up one night with a note f...</td>\n",
       "    </tr>\n",
       "  </tbody>\n",
       "</table>\n",
       "</div>"
      ],
      "text/plain": [
       "    index      id   belongs_to_collection   budget  popularity   \n",
       "0  105390  105390                     NaN        0    1.291844  \\\n",
       "1   69044   69044                     NaN  7677765    0.382908   \n",
       "2  108455  108455  Parent Trap Collection        0    0.161979   \n",
       "3   58148   58148                     NaN        0    0.315696   \n",
       "4   30772   30772                     NaN        0    2.390913   \n",
       "\n",
       "                        poster_path release_date  revenue   \n",
       "0  /llD80LjD4Ydrw4ktqkgjZVzddZu.jpg   1996-10-16        0  \\\n",
       "1  /td8DkXlZtbte0slKC52udPIfD8m.jpg   2006-05-10        0   \n",
       "2  /lfDN8vZpfQS0eqxfuwHIMzdaVYJ.jpg   1989-04-09        0   \n",
       "3  /9TGmE1YMZWSCX9D2j32uJcVtobZ.jpg   2011-10-19        0   \n",
       "4  /pV4IiDPZEFJdrFWsdW9DTzPeEvz.jpg   2005-01-01        0   \n",
       "\n",
       "                                     title  vote_average  returns   \n",
       "0  The Rolling Stones Rock and Roll Circus           7.4      0.0  \\\n",
       "1                     Les Aiguilles rouges           7.0      0.0   \n",
       "2                          Parent Trap III           3.8      0.0   \n",
       "3                  The Catechism Cataclysm           3.9      0.0   \n",
       "4                 The Thing About My Folks           5.4      0.0   \n",
       "\n",
       "  production_companies production_countries   \n",
       "0                  NaN                  NaN  \\\n",
       "1                  NaN               France   \n",
       "2                  NaN                  NaN   \n",
       "3                  NaN                  NaN   \n",
       "4                  NaN                  NaN   \n",
       "\n",
       "                                         description  \n",
       "0  The Rolling Stones Rock and Roll Circus is a f...  \n",
       "1  September 1960: on a purely punitive basis, ei...  \n",
       "2  When Jeff plans to marry again, his triplet da...  \n",
       "3  Father William Smoortser drops his bible into ...  \n",
       "4  Ben's dad Sam shows up one night with a note f...  "
      ]
     },
     "execution_count": 53,
     "metadata": {},
     "output_type": "execute_result"
    }
   ],
   "source": [
    "df.head()"
   ]
  },
  {
   "cell_type": "code",
   "execution_count": 54,
   "metadata": {
    "tags": []
   },
   "outputs": [
    {
     "data": {
      "text/plain": [
       "9260     Batman Beyond: Return of the Joker\n",
       "12164                     Batman vs Dracula\n",
       "22814                 The Dark Knight Rises\n",
       "16498                 DC Showcase: Catwoman\n",
       "14078      Batman Unlimited: Monster Mayhem\n",
       "Name: title, dtype: object"
      ]
     },
     "execution_count": 54,
     "metadata": {},
     "output_type": "execute_result"
    }
   ],
   "source": [
    "get_recommendations(\"Batman\")"
   ]
  }
 ],
 "metadata": {
  "kernelspec": {
   "display_name": "Python 3 (ipykernel)",
   "language": "python",
   "name": "python3"
  },
  "language_info": {
   "codemirror_mode": {
    "name": "ipython",
    "version": 3
   },
   "file_extension": ".py",
   "mimetype": "text/x-python",
   "name": "python",
   "nbconvert_exporter": "python",
   "pygments_lexer": "ipython3",
   "version": "3.11.3"
  }
 },
 "nbformat": 4,
 "nbformat_minor": 4
}
