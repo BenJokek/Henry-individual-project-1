{
 "cells": [
  {
   "cell_type": "code",
   "execution_count": 1,
   "metadata": {},
   "outputs": [],
   "source": [
    "import pandas as pd\n",
    "import ast\n",
    "\n",
    "import psycopg2\n",
    "from sqlalchemy import create_engine\n",
    "from dotenv import load_dotenv\n",
    "import os"
   ]
  },
  {
   "cell_type": "code",
   "execution_count": 2,
   "metadata": {},
   "outputs": [
    {
     "name": "stderr",
     "output_type": "stream",
     "text": [
      "C:\\Users\\benja\\AppData\\Local\\Temp\\ipykernel_11432\\3668436297.py:2: DtypeWarning: Columns (10) have mixed types. Specify dtype option on import or set low_memory=False.\n",
      "  df = pd.read_csv('datasets/movies_dataset.csv')\n"
     ]
    }
   ],
   "source": [
    "# Load data\n",
    "df = pd.read_csv('datasets/movies_dataset.csv')\n",
    "# Drop unnecessary columns\n",
    "# cols_to_drop = [\"id\", \"original_language\", \"video\", \"imdb_id\", \"adult\", \"original_title\", \"homepage\", \"runtime\", \"spoken_languages\", \"status\", \"genres\", \"vote_count\", \"overview\", \"tagline\"]\n",
    "# Include overview and tagline columns:\n",
    "cols_to_drop = [\"id\", \"original_language\", \"video\", \"imdb_id\", \"adult\", \"original_title\", \"homepage\", \"runtime\", \"spoken_languages\", \"status\", \"genres\", \"vote_count\"]\n",
    "df = df.drop(cols_to_drop, axis=1)\n",
    "# Drop duplicates\n",
    "df.drop_duplicates(inplace=True)"
   ]
  },
  {
   "cell_type": "code",
   "execution_count": 3,
   "metadata": {
    "tags": []
   },
   "outputs": [],
   "source": [
    "# df.shape"
   ]
  },
  {
   "cell_type": "code",
   "execution_count": 4,
   "metadata": {
    "tags": []
   },
   "outputs": [],
   "source": [
    "# df.info()"
   ]
  },
  {
   "cell_type": "code",
   "execution_count": 5,
   "metadata": {
    "tags": []
   },
   "outputs": [],
   "source": [
    "# df.describe()"
   ]
  },
  {
   "attachments": {},
   "cell_type": "markdown",
   "metadata": {},
   "source": [
    "### \"release_date\" column cleaning"
   ]
  },
  {
   "cell_type": "code",
   "execution_count": 6,
   "metadata": {
    "tags": []
   },
   "outputs": [
    {
     "name": "stdout",
     "output_type": "stream",
     "text": [
      "Number of null values in \"release_date\" before: 87\n",
      "Number of null values in \"release_date\" after: 0\n"
     ]
    }
   ],
   "source": [
    "print(f'Number of null values in \"release_date\" before: {len(df[df[\"release_date\"].isnull()])}')\n",
    "# Convert the column type to datetime. If there is any error coerce (convert value to null).\n",
    "df['release_date'] = pd.to_datetime(df['release_date'], format='%Y-%m-%d', errors='coerce')\n",
    "# Drop null values\n",
    "df = df.dropna(subset=['release_date'])\n",
    "print(f'Number of null values in \"release_date\" after: {len(df[df[\"release_date\"].isnull()])}')"
   ]
  },
  {
   "attachments": {},
   "cell_type": "markdown",
   "metadata": {},
   "source": [
    "### 'revenue' and 'budget' columns cleaning"
   ]
  },
  {
   "cell_type": "code",
   "execution_count": 7,
   "metadata": {},
   "outputs": [],
   "source": [
    "# Replace nulls in 'revenue' and 'budget' columns with 0s \n",
    "df[['revenue', 'budget']] = df[['revenue', 'budget']].fillna(0)\n",
    "# Convert 'budget' and 'revenue' columns to int\n",
    "df['budget'] = df['budget'].astype(int)\n",
    "df['revenue'] = df['revenue'].astype(int)"
   ]
  },
  {
   "cell_type": "code",
   "execution_count": 8,
   "metadata": {},
   "outputs": [],
   "source": [
    "# Convert 'popularity' column to float\n",
    "df['popularity'] = df['popularity'].astype(float)"
   ]
  },
  {
   "attachments": {},
   "cell_type": "markdown",
   "metadata": {},
   "source": [
    "## Columns creation"
   ]
  },
  {
   "cell_type": "code",
   "execution_count": 9,
   "metadata": {},
   "outputs": [],
   "source": [
    "# Create a column named \"year\" extracting the year from the \"release_date\"\n",
    "# df['release_year'] = df['release_date'].dt.year\n",
    "# calculate ROI and create the 'return' column\n",
    "df['returns'] = df.apply(lambda row: row['revenue'] / row['budget'] if row['budget'] > 0 else 0, axis=1)"
   ]
  },
  {
   "attachments": {},
   "cell_type": "markdown",
   "metadata": {
    "tags": []
   },
   "source": [
    "## \"Normalizations\""
   ]
  },
  {
   "attachments": {},
   "cell_type": "markdown",
   "metadata": {},
   "source": [
    "### Extract \"name\" from \"belongs_to_collection\" column"
   ]
  },
  {
   "cell_type": "code",
   "execution_count": 10,
   "metadata": {},
   "outputs": [],
   "source": [
    "# Convert strings to dictionaries\n",
    "df[\"belongs_to_collection\"] = df[\"belongs_to_collection\"].apply(lambda x: ast.literal_eval(x) if isinstance(x, str) else x)\n",
    "# Extract collection name\n",
    "df[\"belongs_to_collection\"] = df[\"belongs_to_collection\"].apply(lambda x: x.get(\"name\") if isinstance(x, dict) else None)"
   ]
  },
  {
   "attachments": {},
   "cell_type": "markdown",
   "metadata": {},
   "source": [
    "### production_companies"
   ]
  },
  {
   "cell_type": "code",
   "execution_count": 11,
   "metadata": {
    "tags": []
   },
   "outputs": [],
   "source": [
    "# Convert the 'production_companies' column from a string of a list of dictionaries to an actual list of dictionaries\n",
    "df['production_companies'] = df['production_companies'].apply(lambda x: ast.literal_eval(x))\n",
    "\n",
    "# Create a new DataFrame by exploding the 'production_companies' list of dictionaries into separate rows\n",
    "df = df.explode('production_companies')\n",
    "\n",
    "# Split the 'production_companies' dictionary into separate columns\n",
    "df = pd.concat([df.drop(['production_companies'], axis=1), df['production_companies'].apply(pd.Series)], axis=1)\n",
    "\n",
    "# Drop the 'id' and '0' columns (which were created from the dictionary keys)\n",
    "df = df.drop(columns=['id', 0])\n",
    "\n",
    "# Rename the 'name' column to 'production_companies'\n",
    "df = df.rename(columns={'name': 'production_companies'})"
   ]
  },
  {
   "attachments": {},
   "cell_type": "markdown",
   "metadata": {},
   "source": [
    "### production_countries"
   ]
  },
  {
   "cell_type": "code",
   "execution_count": 12,
   "metadata": {
    "tags": []
   },
   "outputs": [],
   "source": [
    "# Convert the 'production_countries' column from a string of a list of dictionaries to an actual list of dictionaries\n",
    "df['production_countries'] = df['production_countries'].apply(lambda x: ast.literal_eval(x))\n",
    "\n",
    "# Create a new DataFrame by exploding the 'production_countries' list of dictionaries into separate rows\n",
    "df = df.explode('production_countries')\n",
    "\n",
    "# Split the 'production_countries' dictionary into separate columns\n",
    "df = pd.concat([df.drop(['production_countries'], axis=1), df['production_countries'].apply(pd.Series)], axis=1)\n",
    "\n",
    "# Rename the 'name' column to 'production_countries'\n",
    "df = df.rename(columns={'name': 'production_countries'})\n",
    "\n",
    "# Drop the 'iso_3166_1' and '0' columns (which were created from the dictionary keys)\n",
    "df = df.drop(columns=['iso_3166_1', 0])"
   ]
  },
  {
   "attachments": {},
   "cell_type": "markdown",
   "metadata": {},
   "source": [
    "### Add indexes"
   ]
  },
  {
   "cell_type": "code",
   "execution_count": 13,
   "metadata": {},
   "outputs": [],
   "source": [
    "df = df.reset_index(drop=True)\n",
    "df = df.rename_axis('id')"
   ]
  },
  {
   "attachments": {},
   "cell_type": "markdown",
   "metadata": {
    "tags": []
   },
   "source": [
    "### Create \"description\" column and drop \"overview\" and \"tagline\""
   ]
  },
  {
   "cell_type": "code",
   "execution_count": 14,
   "metadata": {
    "tags": []
   },
   "outputs": [],
   "source": [
    "df['tagline'] = df['tagline'].fillna('')\n",
    "df['description'] = df['overview'] + df['tagline']\n",
    "df['description'] = df['description'].fillna('')\n",
    "df = df.drop(['overview', 'tagline'], axis=1)"
   ]
  },
  {
   "cell_type": "code",
   "execution_count": 15,
   "metadata": {
    "tags": []
   },
   "outputs": [],
   "source": [
    "df.to_csv('movies_final.csv', index=True)"
   ]
  },
  {
   "attachments": {},
   "cell_type": "markdown",
   "metadata": {
    "tags": []
   },
   "source": [
    "### Load data to PostgreSQL server"
   ]
  },
  {
   "cell_type": "code",
   "execution_count": 16,
   "metadata": {
    "tags": []
   },
   "outputs": [],
   "source": [
    "load_dotenv()\n",
    "\n",
    "# Get the connection string from the environment variable\n",
    "connection_string = os.environ.get(\"DATABASE_CONNECTION_STRING\")\n",
    "\n",
    "# Connect to the database\n",
    "engine = create_engine(connection_string)\n",
    "\n",
    "# Replace \"df\" with the name of your DataFrame\n",
    "df.to_sql(\"movies\", engine, if_exists=\"replace\")\n",
    "\n",
    "# Commit changes and close the connection\n",
    "engine.dispose()"
   ]
  },
  {
   "attachments": {},
   "cell_type": "markdown",
   "metadata": {
    "tags": []
   },
   "source": [
    "### Query DB to check"
   ]
  },
  {
   "cell_type": "code",
   "execution_count": null,
   "metadata": {
    "tags": []
   },
   "outputs": [
    {
     "name": "stdout",
     "output_type": "stream",
     "text": [
      "(0, 'Toy Story Collection', 30000000, 21.946943, '/rhIRbceoE9lR4veEXuwCC2wARtG.jpg', datetime.datetime(1995, 10, 30, 0, 0), 373554033, 'Toy Story', 7.7, 12.4518011, 'Pixar Animation Studios', 'United States of America', \"Led by Woody, Andy's toys live happily in his room until Andy's birthday brings Buzz Lightyear onto the scene. Afraid of losing his place in Andy's heart, Woody plots against Buzz. But when circumstances separate Buzz and Woody from their owner, the duo eventually learns to put aside their differences.\")\n",
      "(1, None, 65000000, 17.015539, '/vzmL6fP7aPKNKPRTFnZmiUfciyV.jpg', datetime.datetime(1995, 12, 15, 0, 0), 262797249, 'Jumanji', 6.9, 4.0430346, 'TriStar Pictures', 'United States of America', \"When siblings Judy and Peter discover an enchanted board game that opens the door to a magical world, they unwittingly invite Alan -- an adult who's been trapped inside the game for 26 years -- into their living room. Alan's only hope for freedom is to finish the game, which proves risky as all three find themselves running from giant rhinoceroses, evil monkeys and other terrifying creatures.Roll the dice and unleash the excitement!\")\n",
      "(2, None, 65000000, 17.015539, '/vzmL6fP7aPKNKPRTFnZmiUfciyV.jpg', datetime.datetime(1995, 12, 15, 0, 0), 262797249, 'Jumanji', 6.9, 4.0430346, 'Teitler Film', 'United States of America', \"When siblings Judy and Peter discover an enchanted board game that opens the door to a magical world, they unwittingly invite Alan -- an adult who's been trapped inside the game for 26 years -- into their living room. Alan's only hope for freedom is to finish the game, which proves risky as all three find themselves running from giant rhinoceroses, evil monkeys and other terrifying creatures.Roll the dice and unleash the excitement!\")\n",
      "(3, None, 65000000, 17.015539, '/vzmL6fP7aPKNKPRTFnZmiUfciyV.jpg', datetime.datetime(1995, 12, 15, 0, 0), 262797249, 'Jumanji', 6.9, 4.0430346, 'Interscope Communications', 'United States of America', \"When siblings Judy and Peter discover an enchanted board game that opens the door to a magical world, they unwittingly invite Alan -- an adult who's been trapped inside the game for 26 years -- into their living room. Alan's only hope for freedom is to finish the game, which proves risky as all three find themselves running from giant rhinoceroses, evil monkeys and other terrifying creatures.Roll the dice and unleash the excitement!\")\n",
      "(4, 'Grumpy Old Men Collection', 0, 11.7129, '/6ksm1sjKMFLbO7UY2i6G1ju9SML.jpg', datetime.datetime(1995, 12, 22, 0, 0), 0, 'Grumpier Old Men', 6.5, 0.0, 'Warner Bros.', 'United States of America', \"A family wedding reignites the ancient feud between next-door neighbors and fishing buddies John and Max. Meanwhile, a sultry Italian divorcée opens a restaurant at the local bait shop, alarming the locals who worry she'll scare the fish away. But she's less interested in seafood than she is in cooking up a hot time with Max.Still Yelling. Still Fighting. Still Ready for Love.\")\n"
     ]
    }
   ],
   "source": [
    "load_dotenv()\n",
    "\n",
    "# Get the connection string from the environment variable\n",
    "connection_string = os.environ.get(\"DATABASE_CONNECTION_STRING\")\n",
    "\n",
    "# Connect to the database\n",
    "engine = create_engine(connection_string)\n",
    "\n",
    "# create a cursor object\n",
    "raw_conn = engine.raw_connection()\n",
    "cur = raw_conn.cursor()\n",
    "\n",
    "# execute a query\n",
    "cur.execute(\"SELECT * FROM movies LIMIT 5\")\n",
    "\n",
    "# retrieve the results\n",
    "rows = cur.fetchall()\n",
    "\n",
    "# print the results\n",
    "for row in rows:\n",
    "    print(row)\n",
    "\n",
    "# close the cursor and the connection\n",
    "cur.close()\n",
    "raw_conn.close()"
   ]
  }
 ],
 "metadata": {
  "kernelspec": {
   "display_name": "Python 3 (ipykernel)",
   "language": "python",
   "name": "python3"
  },
  "language_info": {
   "codemirror_mode": {
    "name": "ipython",
    "version": 3
   },
   "file_extension": ".py",
   "mimetype": "text/x-python",
   "name": "python",
   "nbconvert_exporter": "python",
   "pygments_lexer": "ipython3",
   "version": "3.11.3"
  }
 },
 "nbformat": 4,
 "nbformat_minor": 4
}
