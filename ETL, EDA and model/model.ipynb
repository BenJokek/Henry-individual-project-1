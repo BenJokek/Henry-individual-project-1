{
 "cells": [
  {
   "cell_type": "code",
   "execution_count": 1,
   "metadata": {
    "tags": []
   },
   "outputs": [],
   "source": [
    "import pandas as pd\n",
    "from sklearn.feature_extraction.text import TfidfVectorizer\n",
    "from sklearn.metrics.pairwise import linear_kernel, cosine_similarity"
   ]
  },
  {
   "attachments": {},
   "cell_type": "markdown",
   "metadata": {},
   "source": [
    "### Cosine Similarity"
   ]
  },
  {
   "attachments": {
    "image.png": {
     "image/png": "[encoded data removed]"
    }
   },
   "cell_type": "markdown",
   "metadata": {},
   "source": [
    "I will be using the Cosine Similarity to calculate a numeric quantity that denotes the similarity between two movies. Mathematically, it is defined as follows:\n",
    "\n",
    "![image.png](attachment:image.png)"
   ]
  },
  {
   "cell_type": "code",
   "execution_count": 6,
   "metadata": {
    "tags": []
   },
   "outputs": [
    {
     "name": "stdout",
     "output_type": "stream",
     "text": [
      "(42196, 13)\n",
      "(27000, 13)\n",
      "tfidf_matrix.shape: , (27000, 704950)\n"
     ]
    }
   ],
   "source": [
    "df = pd.read_csv('movies_final.csv')\n",
    "df['description'] = df['description'].fillna('')\n",
    "df = df.drop_duplicates(subset='title')\n",
    "print(df.shape)\n",
    "\n",
    "# Make DataFrame smaller selecting random movies\n",
    "df = df.sample(n=27000)\n",
    "print(df.shape)\n",
    "\n",
    "# The \"TfidfVectorizer\" from the scikit-learn library converts the movie descriptions into a matrix of \n",
    "# TF-IDF (term frequency-inverse document frequency) features. \n",
    "# This vectorization is used to convert the textual data into a numerical format that can be used for similarity analysis.\n",
    "tf = TfidfVectorizer(analyzer='word', ngram_range=(1, 2), min_df=0, stop_words='english')\n",
    "tfidf_matrix = tf.fit_transform(df['description'])\n",
    "print(f\"tfidf_matrix.shape: , {tfidf_matrix.shape}\")\n",
    "\n",
    "# The \"linear_kernel\" function from scikit-learn's \"metrics.pairwise\" module is used to compute the pairwise cosine similarity \n",
    "# between all movies based on the TF-IDF features.\n",
    "cosine_sim = linear_kernel(tfidf_matrix, tfidf_matrix)\n",
    "\n",
    "# We now have a pairwise cosine similarity matrix for all the movie. \n",
    "# The next step is to write a function that returns the 5 most similar movies based on the cosine similarity score.\n",
    "\n",
    "df = df.reset_index()\n",
    "titles = df['title']\n",
    "indices = pd.Series(df.index, index=df['title'])\n",
    "\n",
    "# To use the \"get_recommendations\" function, the code creates a Pandas Series object named \"indices\" where the index \n",
    "# is the title of each movie, and the value is the corresponding index in the \"df\" DataFrame. This is done to \n",
    "# quickly retrieve the index of a movie given its title.\n",
    "\n",
    "def get_recommendations(title):\n",
    "    idx = indices[title]\n",
    "    sim_scores = list(enumerate(cosine_sim[idx]))\n",
    "    sim_scores = sorted(sim_scores, key=lambda x: x[1], reverse=True)\n",
    "    sim_scores = sim_scores[1:6]\n",
    "    movie_indices = [i[0] for i in sim_scores]\n",
    "    return titles.iloc[movie_indices]\n",
    "\n",
    "# Let's try and get the top recommendations for a few movies and see how good the recommendations are."
   ]
  },
  {
   "cell_type": "code",
   "execution_count": 3,
   "metadata": {
    "tags": []
   },
   "outputs": [
    {
     "data": {
      "text/html": [
       "<div>\n",
       "<style scoped>\n",
       "    .dataframe tbody tr th:only-of-type {\n",
       "        vertical-align: middle;\n",
       "    }\n",
       "\n",
       "    .dataframe tbody tr th {\n",
       "        vertical-align: top;\n",
       "    }\n",
       "\n",
       "    .dataframe thead th {\n",
       "        text-align: right;\n",
       "    }\n",
       "</style>\n",
       "<table border=\"1\" class=\"dataframe\">\n",
       "  <thead>\n",
       "    <tr style=\"text-align: right;\">\n",
       "      <th></th>\n",
       "      <th>index</th>\n",
       "      <th>id</th>\n",
       "      <th>belongs_to_collection</th>\n",
       "      <th>budget</th>\n",
       "      <th>popularity</th>\n",
       "      <th>poster_path</th>\n",
       "      <th>release_date</th>\n",
       "      <th>revenue</th>\n",
       "      <th>title</th>\n",
       "      <th>vote_average</th>\n",
       "      <th>returns</th>\n",
       "      <th>production_companies</th>\n",
       "      <th>production_countries</th>\n",
       "      <th>description</th>\n",
       "    </tr>\n",
       "  </thead>\n",
       "  <tbody>\n",
       "    <tr>\n",
       "      <th>0</th>\n",
       "      <td>66458</td>\n",
       "      <td>66458</td>\n",
       "      <td>NaN</td>\n",
       "      <td>0</td>\n",
       "      <td>0.352379</td>\n",
       "      <td>/jsWR6NfYRD0VumISH7GkGy9ZMW9.jpg</td>\n",
       "      <td>1957-08-29</td>\n",
       "      <td>0</td>\n",
       "      <td>The Third Sex</td>\n",
       "      <td>5.5</td>\n",
       "      <td>0.0</td>\n",
       "      <td>Arca-Filmproduktion GmbH</td>\n",
       "      <td>Germany</td>\n",
       "      <td>Klaus is a young man in post-war Berlin. He is...</td>\n",
       "    </tr>\n",
       "    <tr>\n",
       "      <th>1</th>\n",
       "      <td>75544</td>\n",
       "      <td>75544</td>\n",
       "      <td>NaN</td>\n",
       "      <td>0</td>\n",
       "      <td>2.711057</td>\n",
       "      <td>/eG5Hq3GkDzZMmETB9soAz5UCI8Y.jpg</td>\n",
       "      <td>2014-12-31</td>\n",
       "      <td>0</td>\n",
       "      <td>Manny</td>\n",
       "      <td>6.4</td>\n",
       "      <td>0.0</td>\n",
       "      <td>Revelin Studios</td>\n",
       "      <td>United States of America</td>\n",
       "      <td>From abject poverty to becoming a ten-time box...</td>\n",
       "    </tr>\n",
       "    <tr>\n",
       "      <th>2</th>\n",
       "      <td>107789</td>\n",
       "      <td>107789</td>\n",
       "      <td>NaN</td>\n",
       "      <td>9500000</td>\n",
       "      <td>2.002313</td>\n",
       "      <td>/dEvfpB05SBMmQtxuW9KE43eDz48.jpg</td>\n",
       "      <td>2016-04-01</td>\n",
       "      <td>0</td>\n",
       "      <td>Finding Altamira</td>\n",
       "      <td>5.7</td>\n",
       "      <td>0.0</td>\n",
       "      <td>Morena Films</td>\n",
       "      <td>Spain</td>\n",
       "      <td>The story of nine-year old Maria and her fathe...</td>\n",
       "    </tr>\n",
       "    <tr>\n",
       "      <th>3</th>\n",
       "      <td>83875</td>\n",
       "      <td>83875</td>\n",
       "      <td>NaN</td>\n",
       "      <td>0</td>\n",
       "      <td>0.622255</td>\n",
       "      <td>/kEsvn0DWCE0xK65VrDL1XITjKm8.jpg</td>\n",
       "      <td>1980-09-26</td>\n",
       "      <td>0</td>\n",
       "      <td>In God We Tru$t</td>\n",
       "      <td>5.8</td>\n",
       "      <td>0.0</td>\n",
       "      <td>Universal Pictures</td>\n",
       "      <td>United States of America</td>\n",
       "      <td>A naive monk, named Brother Ambrose (Marty Fel...</td>\n",
       "    </tr>\n",
       "    <tr>\n",
       "      <th>4</th>\n",
       "      <td>79041</td>\n",
       "      <td>79041</td>\n",
       "      <td>NaN</td>\n",
       "      <td>0</td>\n",
       "      <td>0.037969</td>\n",
       "      <td>/j5aNjW2L2sHJkjo1BjlbEkX9iDT.jpg</td>\n",
       "      <td>1988-11-11</td>\n",
       "      <td>0</td>\n",
       "      <td>Spike of Bensonhurst</td>\n",
       "      <td>9.0</td>\n",
       "      <td>0.0</td>\n",
       "      <td>FilmDallas Pictures</td>\n",
       "      <td>United States of America</td>\n",
       "      <td>Spike Fumo is an Italian kid apsiring to be a ...</td>\n",
       "    </tr>\n",
       "  </tbody>\n",
       "</table>\n",
       "</div>"
      ],
      "text/plain": [
       "    index      id belongs_to_collection   budget  popularity   \n",
       "0   66458   66458                   NaN        0    0.352379  \\\n",
       "1   75544   75544                   NaN        0    2.711057   \n",
       "2  107789  107789                   NaN  9500000    2.002313   \n",
       "3   83875   83875                   NaN        0    0.622255   \n",
       "4   79041   79041                   NaN        0    0.037969   \n",
       "\n",
       "                        poster_path release_date  revenue   \n",
       "0  /jsWR6NfYRD0VumISH7GkGy9ZMW9.jpg   1957-08-29        0  \\\n",
       "1  /eG5Hq3GkDzZMmETB9soAz5UCI8Y.jpg   2014-12-31        0   \n",
       "2  /dEvfpB05SBMmQtxuW9KE43eDz48.jpg   2016-04-01        0   \n",
       "3  /kEsvn0DWCE0xK65VrDL1XITjKm8.jpg   1980-09-26        0   \n",
       "4  /j5aNjW2L2sHJkjo1BjlbEkX9iDT.jpg   1988-11-11        0   \n",
       "\n",
       "                  title  vote_average  returns      production_companies   \n",
       "0         The Third Sex           5.5      0.0  Arca-Filmproduktion GmbH  \\\n",
       "1                 Manny           6.4      0.0           Revelin Studios   \n",
       "2      Finding Altamira           5.7      0.0              Morena Films   \n",
       "3       In God We Tru$t           5.8      0.0        Universal Pictures   \n",
       "4  Spike of Bensonhurst           9.0      0.0       FilmDallas Pictures   \n",
       "\n",
       "       production_countries                                        description  \n",
       "0                   Germany  Klaus is a young man in post-war Berlin. He is...  \n",
       "1  United States of America  From abject poverty to becoming a ten-time box...  \n",
       "2                     Spain  The story of nine-year old Maria and her fathe...  \n",
       "3  United States of America  A naive monk, named Brother Ambrose (Marty Fel...  \n",
       "4  United States of America  Spike Fumo is an Italian kid apsiring to be a ...  "
      ]
     },
     "execution_count": 3,
     "metadata": {},
     "output_type": "execute_result"
    }
   ],
   "source": [
    "df.head()"
   ]
  },
  {
   "cell_type": "code",
   "execution_count": 5,
   "metadata": {
    "tags": []
   },
   "outputs": [
    {
     "data": {
      "text/plain": [
       "22942                         Toy Story 2\n",
       "5237                          Toy Story 3\n",
       "3940               The 40 Year Old Virgin\n",
       "15848         Andy Hardy's Blonde Trouble\n",
       "8002     Andy Kaufman Plays Carnegie Hall\n",
       "Name: title, dtype: object"
      ]
     },
     "execution_count": 5,
     "metadata": {},
     "output_type": "execute_result"
    }
   ],
   "source": [
    "get_recommendations(\"Toy Story\")"
   ]
  }
 ],
 "metadata": {
  "kernelspec": {
   "display_name": "Python 3 (ipykernel)",
   "language": "python",
   "name": "python3"
  },
  "language_info": {
   "codemirror_mode": {
    "name": "ipython",
    "version": 3
   },
   "file_extension": ".py",
   "mimetype": "text/x-python",
   "name": "python",
   "nbconvert_exporter": "python",
   "pygments_lexer": "ipython3",
   "version": "3.11.3"
  }
 },
 "nbformat": 4,
 "nbformat_minor": 4
}
