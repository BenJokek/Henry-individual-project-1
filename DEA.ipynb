{
 "cells": [
  {
   "cell_type": "code",
   "execution_count": null,
   "id": "9f79bec4-5533-4584-bd94-1729535c677f",
   "metadata": {},
   "outputs": [],
   "source": [
    "# REMEMBER TO ADD THE REST\n",
    "# from ydata_profiling import ProfileReport\n",
    "# # https://ydata-profiling.ydata.ai/docs/master/pages/getting_started/quickstart.html\n",
    "# profile = ProfileReport(df, title=\"Pandas Profiling Report\")\n",
    "# profile"
   ]
  }
 ],
 "metadata": {
  "kernelspec": {
   "display_name": "Python 3 (ipykernel)",
   "language": "python",
   "name": "python3"
  },
  "language_info": {
   "codemirror_mode": {
    "name": "ipython",
    "version": 3
   },
   "file_extension": ".py",
   "mimetype": "text/x-python",
   "name": "python",
   "nbconvert_exporter": "python",
   "pygments_lexer": "ipython3",
   "version": "3.11.3"
  }
 },
 "nbformat": 4,
 "nbformat_minor": 5
}
